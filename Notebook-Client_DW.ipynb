{
    "metadata": {
        "kernelspec": {
            "name": "SQL",
            "display_name": "SQL",
            "language": "sql"
        },
        "language_info": {
            "name": "sql",
            "version": ""
        }
    },
    "nbformat_minor": 2,
    "nbformat": 4,
    "cells": [
        {
            "cell_type": "markdown",
            "source": [
                "Creating Fact Schema for all of my fact tables --"
            ],
            "metadata": {
                "azdata_cell_guid": "08ae94da-3bd8-40b4-86eb-eecd23039606"
            }
        },
        {
            "cell_type": "code",
            "source": [
                "CREATE SCHEMA Fact;"
            ],
            "metadata": {
                "azdata_cell_guid": "d639bf19-c3c0-4185-b156-186ab9c2abb8",
                "language": "sql"
            },
            "outputs": [],
            "execution_count": null
        },
        {
            "cell_type": "markdown",
            "source": [
                "Creating Dimenion Schema for all of my dimension tables --"
            ],
            "metadata": {
                "azdata_cell_guid": "d3495cc1-2838-4757-9105-07a59bf767a0"
            }
        },
        {
            "cell_type": "code",
            "source": [
                "CREATE SCHEMA Dimension;"
            ],
            "metadata": {
                "azdata_cell_guid": "c41b783c-fa74-424c-afe0-7fe2fe2ab4e5",
                "language": "sql"
            },
            "outputs": [],
            "execution_count": null
        },
        {
            "cell_type": "markdown",
            "source": [
                "Verifying that both Schemas from above were successfully created --"
            ],
            "metadata": {
                "azdata_cell_guid": "0827bd8b-a623-48b5-b835-a4a6b42f3308"
            }
        },
        {
            "cell_type": "code",
            "source": [
                "SELECT * FROM sys.schemas;\n",
                "\n",
                "-- Creating Date Dimension Table --\n",
                "CREATE TABLE Dimension.Date (\n",
                "    DateKey int NOT NULL,\n",
                "    FullDate date NOT NULL,\n",
                "    DayName nvarchar(9) NOT NULL,\n",
                "    DayNumber tinyint NOT NULL,\n",
                "    MonthName varchar(9) NOT NULL,\n",
                "    MonthNumber tinyint NOT NULL,\n",
                "    Year tinyint NOT NULL\n",
                "\n",
                "    CONSTRAINT PK_Date PRIMARY KEY CLUSTERED (\n",
                "        DateKey ASC\n",
                "    )\n",
                ");"
            ],
            "metadata": {
                "azdata_cell_guid": "d2654f28-d35a-4e92-aeae-6c1071ccd714",
                "language": "sql"
            },
            "outputs": [],
            "execution_count": null
        },
        {
            "cell_type": "markdown",
            "source": [
                "Creating Customer Dimension Table --"
            ],
            "metadata": {
                "azdata_cell_guid": "8f9e7ca9-b6c6-42d6-9f48-29dd37f8236a"
            }
        },
        {
            "cell_type": "code",
            "source": [
                "CREATE TABLE Dimension.Customer (\n",
                "    CustomerKey int IDENTITY (1,1) NOT NULL,\n",
                "    CustomerAlternateKey int NOT NULL,\n",
                "    FirstName nvarchar(50) NOT NULL,\n",
                "    LastName nvarchar(50) NOT NULL,\n",
                "    FullName nvarchar(100) NOT NULL,\n",
                "    City nvarchar(50) NOT NULL,\n",
                "    State char(2) NOT NULL,\n",
                "    StateName nvarchar(20) NOT NULL,\n",
                "    Zip char(5) NOT NULL\n",
                "\n",
                "    CONSTRAINT PK_Customer PRIMARY KEY CLUSTERED (\n",
                "        CustomerKey ASC\n",
                "    )\n",
                ");"
            ],
            "metadata": {
                "azdata_cell_guid": "0bcbf43b-11e2-4109-89a0-394484b10b12",
                "language": "sql"
            },
            "outputs": [],
            "execution_count": null
        },
        {
            "cell_type": "markdown",
            "source": [
                "Creating an Accounts Fact Table --"
            ],
            "metadata": {
                "azdata_cell_guid": "54c50621-7742-488d-a485-9928faf9607f"
            }
        },
        {
            "cell_type": "code",
            "source": [
                "CREATE TABLE Fact.Accounts (\n",
                "    AccountID int IDENTITY (1,1) NOT NULL,\n",
                "    DateKey int NOT NULL,\n",
                "    CustomerKey int NOT NULL,\n",
                "    InvoiceTotal money NOT NULL\n",
                "\n",
                "    CONSTRAINT PK_Account PRIMARY KEY CLUSTERED (\n",
                "        AccountID ASC\n",
                "    )\n",
                ");"
            ],
            "metadata": {
                "azdata_cell_guid": "c075ec07-9991-4b39-8a12-dde83dd2e0af",
                "language": "sql"
            },
            "outputs": [],
            "execution_count": null
        },
        {
            "cell_type": "markdown",
            "source": [
                "Adding the relationship between Accounts Fact Table and Date Dimension Table --"
            ],
            "metadata": {
                "azdata_cell_guid": "34f9c5f4-0e6d-4cd7-a998-2348f78a82db"
            }
        },
        {
            "cell_type": "code",
            "source": [
                "ALTER TABLE Fact.Accounts WITH CHECK ADD CONSTRAINT FK_Fact_Accounts_DakeKey_Dimension_Date FOREIGN KEY(DateKey)\n",
                "REFERENCES Dimension.Date (DateKey);"
            ],
            "metadata": {
                "azdata_cell_guid": "98fb8b73-a63d-4ae4-b258-a7c7ef3fec25",
                "language": "sql"
            },
            "outputs": [],
            "execution_count": null
        },
        {
            "cell_type": "code",
            "source": [
                "ALTER TABLE Fact.Accounts CHECK CONSTRAINT FK_Fact_Accounts_DakeKey_Dimension_Date;"
            ],
            "metadata": {
                "azdata_cell_guid": "d5aa3f21-1f97-4948-8526-d2dc246ab5b2",
                "language": "sql"
            },
            "outputs": [],
            "execution_count": null
        },
        {
            "cell_type": "markdown",
            "source": [
                "Adding the relationship between Accounts Fact Table and Customer Dimension Table --"
            ],
            "metadata": {
                "azdata_cell_guid": "fe7c30ea-5288-47f9-8650-d0f24dd94a75"
            }
        },
        {
            "cell_type": "code",
            "source": [
                "ALTER TABLE Fact.Accounts WITH CHECK ADD CONSTRAINT FK_Fact_Accounts_CustomerKey_Dimension_Customer FOREIGN KEY(CustomerKey)\n",
                "REFERENCES Dimension.Customer (CustomerKey);"
            ],
            "metadata": {
                "azdata_cell_guid": "5d8f99a4-dbaa-4960-a075-d6802a7df8a0",
                "language": "sql"
            },
            "outputs": [],
            "execution_count": null
        },
        {
            "cell_type": "code",
            "source": [
                "ALTER TABLE Fact.Accounts CHECK CONSTRAINT FK_Fact_Accounts_CustomerKey_Dimension_Customer;"
            ],
            "metadata": {
                "azdata_cell_guid": "ff1cea79-5b3d-475e-bd3c-85d041adc5c2",
                "language": "sql"
            },
            "outputs": [],
            "execution_count": null
        },
        {
            "cell_type": "markdown",
            "source": [
                "Creating a View --"
            ],
            "metadata": {
                "azdata_cell_guid": "fad558ab-3127-439b-8d5c-64244af20220"
            }
        },
        {
            "cell_type": "code",
            "source": [
                "CREATE VIEW dbo.AccountsByDate\n",
                "    WITH SCHEMABINDING\n",
                "    AS\n",
                "        SELECT Accounts.AccountID, Accounts.CustomerKey, Accounts.InvoiceTotal,\n",
                "            Date.FullDate, Date.DayName, Date.DayNumber, Date.MonthName,\n",
                "            Date.MonthNumber, Date.Year\n",
                "        FROM Fact.Accounts JOIN Dimension.[Date] ON Accounts.DateKey = Date.DateKey\n",
                ";"
            ],
            "metadata": {
                "azdata_cell_guid": "e4eb845f-a178-4622-bf7e-5736fdba503a",
                "language": "sql"
            },
            "outputs": [],
            "execution_count": null
        },
        {
            "cell_type": "code",
            "source": [
                "CREATE UNIQUE CLUSTERED INDEX IDX_AccountsByDate\n",
                "    ON dbo.AccountsByDate (AccountID);"
            ],
            "metadata": {
                "azdata_cell_guid": "9b8ea1cf-909e-48c1-877c-a890d5b2bd38",
                "language": "sql"
            },
            "outputs": [],
            "execution_count": null
        },
        {
            "cell_type": "code",
            "source": [
                "SELECT * FROM dbo.AccountsByDate;"
            ],
            "metadata": {
                "azdata_cell_guid": "0a6b658d-ed73-4915-944c-db1ccd038551",
                "language": "sql"
            },
            "outputs": [],
            "execution_count": null
        },
        {
            "cell_type": "markdown",
            "source": [
                "Creating a Columnstore Index for Performance Optimization of analytical queries --"
            ],
            "metadata": {
                "azdata_cell_guid": "863f32fc-f306-4932-a389-91f70624138b"
            }
        },
        {
            "cell_type": "code",
            "source": [
                "CREATE COLUMNSTORE INDEX IX_CS_FactAccounts\n",
                "ON Fact.Accounts (AccountID, DateKey, CustomerKey, InvoiceTotal);"
            ],
            "metadata": {
                "azdata_cell_guid": "2d720cde-bbf2-4ee6-a42e-22014ae9e834",
                "language": "sql"
            },
            "outputs": [],
            "execution_count": null
        },
        {
            "cell_type": "markdown",
            "source": [
                "Rebuild Statement if fragmentation starts to happen (drops the index and rebuilds it entirely) --"
            ],
            "metadata": {
                "azdata_cell_guid": "77320fe4-c649-4bea-9c7e-f659f905713f"
            }
        },
        {
            "cell_type": "markdown",
            "source": [
                "ALTER INDEXIX_CS_FactAccounts"
            ],
            "metadata": {
                "azdata_cell_guid": "f6e3ca46-e432-4be5-b0db-39659aea30bf"
            }
        },
        {
            "cell_type": "markdown",
            "source": [
                "ON Fact.Accounts"
            ],
            "metadata": {
                "azdata_cell_guid": "bab4f28b-3cd6-4cab-826c-73ad0b26120b"
            }
        },
        {
            "cell_type": "markdown",
            "source": [
                "REBUILD WITH (ONLINE = ON);"
            ],
            "metadata": {
                "azdata_cell_guid": "1ffd4d9d-8e5d-4baf-a80b-cf576bf0e85c"
            }
        }
    ]
}